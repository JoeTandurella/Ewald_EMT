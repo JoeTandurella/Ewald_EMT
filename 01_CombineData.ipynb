{
 "cells": [
  {
   "cell_type": "code",
   "execution_count": 1,
   "metadata": {},
   "outputs": [
    {
     "name": "stderr",
     "output_type": "stream",
     "text": [
      "/home/gaurav/.local/lib/python3.6/site-packages/scanpy/api/__init__.py:6: FutureWarning: \n",
      "\n",
      "In a future version of Scanpy, `scanpy.api` will be removed.\n",
      "Simply use `import scanpy as sc` and `import scanpy.external as sce` instead.\n",
      "\n",
      "  FutureWarning\n"
     ]
    }
   ],
   "source": [
    "import anndata as ad\n",
    "import scvelo as scv\n",
    "import scanpy as sc\n",
    "import pandas as pd\n",
    "import numpy as np"
   ]
  },
  {
   "cell_type": "markdown",
   "metadata": {},
   "source": [
    "## Read the files"
   ]
  },
  {
   "cell_type": "code",
   "execution_count": 2,
   "metadata": {},
   "outputs": [],
   "source": [
    "d1mtx = ad.read_mtx('D1-D3-D5-byHaiping/D1/filtered_feature_bc_matrix/matrix.mtx')\n",
    "d1barcodes = pd.read_csv('D1-D3-D5-byHaiping/D1/filtered_feature_bc_matrix/barcodes.tsv',header=None)\n",
    "d1features = pd.read_csv('D1-D3-D5-byHaiping/D1/filtered_feature_bc_matrix/features.tsv',header=None,sep='\\t')"
   ]
  },
  {
   "cell_type": "code",
   "execution_count": 3,
   "metadata": {},
   "outputs": [],
   "source": [
    "d3mtx = ad.read_mtx('D1-D3-D5-byHaiping/D3/filtered_feature_bc_matrix/matrix.mtx')\n",
    "d3barcodes = pd.read_csv('D1-D3-D5-byHaiping/D3/filtered_feature_bc_matrix/barcodes.tsv',header=None)\n",
    "d3features = pd.read_csv('D1-D3-D5-byHaiping/D3/filtered_feature_bc_matrix/features.tsv',header=None,sep='\\t')"
   ]
  },
  {
   "cell_type": "code",
   "execution_count": 4,
   "metadata": {},
   "outputs": [],
   "source": [
    "d5mtx = ad.read_mtx('D1-D3-D5-byHaiping/D5/filtered_feature_bc_matrix/matrix.mtx')\n",
    "d5barcodes = pd.read_csv('D1-D3-D5-byHaiping/D5/filtered_feature_bc_matrix/barcodes.tsv',header=None)\n",
    "d5features = pd.read_csv('D1-D3-D5-byHaiping/D5/filtered_feature_bc_matrix/features.tsv',header=None,sep='\\t')"
   ]
  },
  {
   "cell_type": "code",
   "execution_count": 5,
   "metadata": {},
   "outputs": [],
   "source": [
    "d1mtx = d1mtx.transpose()\n",
    "d3mtx = d3mtx.transpose()\n",
    "d5mtx = d5mtx.transpose()"
   ]
  },
  {
   "cell_type": "markdown",
   "metadata": {},
   "source": [
    "## Assign cell and gene lables"
   ]
  },
  {
   "cell_type": "code",
   "execution_count": 6,
   "metadata": {},
   "outputs": [],
   "source": [
    "def cleanBarcodes(df):\n",
    "    barcodes = df.iloc[:,0].values\n",
    "    return [barcode[:-2] for barcode in barcodes]"
   ]
  },
  {
   "cell_type": "code",
   "execution_count": 7,
   "metadata": {},
   "outputs": [],
   "source": [
    "d1barcodes = cleanBarcodes(d1barcodes)\n",
    "d3barcodes = cleanBarcodes(d3barcodes)\n",
    "d5barcodes = cleanBarcodes(d5barcodes)"
   ]
  },
  {
   "cell_type": "code",
   "execution_count": 8,
   "metadata": {},
   "outputs": [],
   "source": [
    "d1mtx.obs['cellId'] = d1barcodes\n",
    "d3mtx.obs['cellId'] = d3barcodes\n",
    "d5mtx.obs['cellId'] = d5barcodes"
   ]
  },
  {
   "cell_type": "code",
   "execution_count": 9,
   "metadata": {},
   "outputs": [],
   "source": [
    "def assignVarValues(adata,df):\n",
    "    adata.var['geneName'] = df.iloc[:,1].values\n",
    "    adata.var['geneId'] = df.iloc[:,0].values"
   ]
  },
  {
   "cell_type": "code",
   "execution_count": 10,
   "metadata": {},
   "outputs": [],
   "source": [
    "assignVarValues(d1mtx,d1features)\n",
    "assignVarValues(d3mtx,d3features)\n",
    "assignVarValues(d5mtx,d5features)"
   ]
  },
  {
   "cell_type": "code",
   "execution_count": 21,
   "metadata": {},
   "outputs": [],
   "source": [
    "d1lables = pd.read_csv('finalSampleLabelsD1.txt',sep='\\t')\n",
    "d3lables = pd.read_csv('finalSampleLabelsD3.txt',sep='\\t')\n",
    "d5lables = pd.read_csv('finalSampleLabelsD5.txt',sep='\\t')"
   ]
  },
  {
   "cell_type": "code",
   "execution_count": 22,
   "metadata": {},
   "outputs": [
    {
     "data": {
      "text/html": [
       "<div>\n",
       "<style scoped>\n",
       "    .dataframe tbody tr th:only-of-type {\n",
       "        vertical-align: middle;\n",
       "    }\n",
       "\n",
       "    .dataframe tbody tr th {\n",
       "        vertical-align: top;\n",
       "    }\n",
       "\n",
       "    .dataframe thead th {\n",
       "        text-align: right;\n",
       "    }\n",
       "</style>\n",
       "<table border=\"1\" class=\"dataframe\">\n",
       "  <thead>\n",
       "    <tr style=\"text-align: right;\">\n",
       "      <th></th>\n",
       "      <th>final.calls</th>\n",
       "      <th>cellBarcodes</th>\n",
       "    </tr>\n",
       "  </thead>\n",
       "  <tbody>\n",
       "    <tr>\n",
       "      <th>1</th>\n",
       "      <td>Mouse1_Collagen_D1</td>\n",
       "      <td>AAACCCACACCATAAC</td>\n",
       "    </tr>\n",
       "    <tr>\n",
       "      <th>2</th>\n",
       "      <td>Mouse3_Matrigel_D1</td>\n",
       "      <td>AAACCCATCGTCGGGT</td>\n",
       "    </tr>\n",
       "    <tr>\n",
       "      <th>3</th>\n",
       "      <td>Mouse2_Matrigel_D1</td>\n",
       "      <td>AAACGAAAGTAGTGCG</td>\n",
       "    </tr>\n",
       "    <tr>\n",
       "      <th>4</th>\n",
       "      <td>Doublet</td>\n",
       "      <td>AAACGAATCTGTCTCG</td>\n",
       "    </tr>\n",
       "    <tr>\n",
       "      <th>5</th>\n",
       "      <td>Mouse1_Matrigel_D1</td>\n",
       "      <td>AAACGCTCACCGTGGT</td>\n",
       "    </tr>\n",
       "  </tbody>\n",
       "</table>\n",
       "</div>"
      ],
      "text/plain": [
       "          final.calls      cellBarcodes\n",
       "1  Mouse1_Collagen_D1  AAACCCACACCATAAC\n",
       "2  Mouse3_Matrigel_D1  AAACCCATCGTCGGGT\n",
       "3  Mouse2_Matrigel_D1  AAACGAAAGTAGTGCG\n",
       "4             Doublet  AAACGAATCTGTCTCG\n",
       "5  Mouse1_Matrigel_D1  AAACGCTCACCGTGGT"
      ]
     },
     "execution_count": 22,
     "metadata": {},
     "output_type": "execute_result"
    }
   ],
   "source": [
    "d1lables.head()"
   ]
  },
  {
   "cell_type": "code",
   "execution_count": 23,
   "metadata": {},
   "outputs": [],
   "source": [
    "def removeDuplicates(df):\n",
    "    dup = df.duplicated('cellBarcodes',keep='last')\n",
    "    notDup = [not x for x in dup]\n",
    "    df = df.loc[notDup,:].sort_values('cellBarcodes')\n",
    "    return df"
   ]
  },
  {
   "cell_type": "code",
   "execution_count": 24,
   "metadata": {},
   "outputs": [],
   "source": [
    "d1lables = removeDuplicates(d1lables)\n",
    "d3lables = removeDuplicates(d3lables)\n",
    "d5lables = removeDuplicates(d5lables)"
   ]
  },
  {
   "cell_type": "code",
   "execution_count": 20,
   "metadata": {},
   "outputs": [
    {
     "ename": "KeyError",
     "evalue": "\"None of ['cellId'] are in the columns\"",
     "output_type": "error",
     "traceback": [
      "\u001b[0;31m---------------------------------------------------------------------------\u001b[0m",
      "\u001b[0;31mKeyError\u001b[0m                                  Traceback (most recent call last)",
      "\u001b[0;32m<ipython-input-20-d840604c1f64>\u001b[0m in \u001b[0;36m<module>\u001b[0;34m\u001b[0m\n\u001b[0;32m----> 1\u001b[0;31m \u001b[0md1mtx\u001b[0m\u001b[0;34m.\u001b[0m\u001b[0mobs\u001b[0m \u001b[0;34m=\u001b[0m \u001b[0md1mtx\u001b[0m\u001b[0;34m.\u001b[0m\u001b[0mobs\u001b[0m\u001b[0;34m.\u001b[0m\u001b[0mset_index\u001b[0m\u001b[0;34m(\u001b[0m\u001b[0;34m'cellId'\u001b[0m\u001b[0;34m)\u001b[0m\u001b[0;34m\u001b[0m\u001b[0;34m\u001b[0m\u001b[0m\n\u001b[0m\u001b[1;32m      2\u001b[0m \u001b[0md3mtx\u001b[0m\u001b[0;34m.\u001b[0m\u001b[0mobs\u001b[0m \u001b[0;34m=\u001b[0m \u001b[0md3mtx\u001b[0m\u001b[0;34m.\u001b[0m\u001b[0mobs\u001b[0m\u001b[0;34m.\u001b[0m\u001b[0mset_index\u001b[0m\u001b[0;34m(\u001b[0m\u001b[0;34m'cellId'\u001b[0m\u001b[0;34m)\u001b[0m\u001b[0;34m\u001b[0m\u001b[0;34m\u001b[0m\u001b[0m\n\u001b[1;32m      3\u001b[0m \u001b[0md5mtx\u001b[0m\u001b[0;34m.\u001b[0m\u001b[0mobs\u001b[0m \u001b[0;34m=\u001b[0m \u001b[0md5mtx\u001b[0m\u001b[0;34m.\u001b[0m\u001b[0mobs\u001b[0m\u001b[0;34m.\u001b[0m\u001b[0mset_index\u001b[0m\u001b[0;34m(\u001b[0m\u001b[0;34m'cellId'\u001b[0m\u001b[0;34m)\u001b[0m\u001b[0;34m\u001b[0m\u001b[0;34m\u001b[0m\u001b[0m\n",
      "\u001b[0;32m~/.local/lib/python3.6/site-packages/pandas/core/frame.py\u001b[0m in \u001b[0;36mset_index\u001b[0;34m(self, keys, drop, append, inplace, verify_integrity)\u001b[0m\n\u001b[1;32m   4389\u001b[0m \u001b[0;34m\u001b[0m\u001b[0m\n\u001b[1;32m   4390\u001b[0m         \u001b[0;32mif\u001b[0m \u001b[0mmissing\u001b[0m\u001b[0;34m:\u001b[0m\u001b[0;34m\u001b[0m\u001b[0;34m\u001b[0m\u001b[0m\n\u001b[0;32m-> 4391\u001b[0;31m             \u001b[0;32mraise\u001b[0m \u001b[0mKeyError\u001b[0m\u001b[0;34m(\u001b[0m\u001b[0;34m\"None of {} are in the columns\"\u001b[0m\u001b[0;34m.\u001b[0m\u001b[0mformat\u001b[0m\u001b[0;34m(\u001b[0m\u001b[0mmissing\u001b[0m\u001b[0;34m)\u001b[0m\u001b[0;34m)\u001b[0m\u001b[0;34m\u001b[0m\u001b[0;34m\u001b[0m\u001b[0m\n\u001b[0m\u001b[1;32m   4392\u001b[0m \u001b[0;34m\u001b[0m\u001b[0m\n\u001b[1;32m   4393\u001b[0m         \u001b[0;32mif\u001b[0m \u001b[0minplace\u001b[0m\u001b[0;34m:\u001b[0m\u001b[0;34m\u001b[0m\u001b[0;34m\u001b[0m\u001b[0m\n",
      "\u001b[0;31mKeyError\u001b[0m: \"None of ['cellId'] are in the columns\""
     ]
    }
   ],
   "source": [
    "d1mtx.obs = d1mtx.obs.set_index('cellId')\n",
    "d3mtx.obs = d3mtx.obs.set_index('cellId')\n",
    "d5mtx.obs = d5mtx.obs.set_index('cellId')"
   ]
  },
  {
   "cell_type": "code",
   "execution_count": 25,
   "metadata": {},
   "outputs": [],
   "source": [
    "d1mtx = ad.AnnData(d1mtx[d1mtx.obs.index.isin(d1lables['cellBarcodes'].values)])\n",
    "d3mtx = ad.AnnData(d3mtx[d3mtx.obs.index.isin(d3lables['cellBarcodes'].values)])\n",
    "d5mtx = ad.AnnData(d5mtx[d5mtx.obs.index.isin(d5lables['cellBarcodes'].values)])"
   ]
  },
  {
   "cell_type": "code",
   "execution_count": 26,
   "metadata": {},
   "outputs": [],
   "source": [
    "d1lables.set_index('cellBarcodes',inplace=True)\n",
    "d3lables.set_index('cellBarcodes',inplace=True)\n",
    "d5lables.set_index('cellBarcodes',inplace=True)"
   ]
  },
  {
   "cell_type": "code",
   "execution_count": 151,
   "metadata": {},
   "outputs": [
    {
     "data": {
      "text/plain": [
       "(6021, 31053)"
      ]
     },
     "execution_count": 151,
     "metadata": {},
     "output_type": "execute_result"
    }
   ],
   "source": [
    "d1mtx.shape"
   ]
  },
  {
   "cell_type": "code",
   "execution_count": 155,
   "metadata": {},
   "outputs": [
    {
     "data": {
      "text/html": [
       "<div>\n",
       "<style scoped>\n",
       "    .dataframe tbody tr th:only-of-type {\n",
       "        vertical-align: middle;\n",
       "    }\n",
       "\n",
       "    .dataframe tbody tr th {\n",
       "        vertical-align: top;\n",
       "    }\n",
       "\n",
       "    .dataframe thead th {\n",
       "        text-align: right;\n",
       "    }\n",
       "</style>\n",
       "<table border=\"1\" class=\"dataframe\">\n",
       "  <thead>\n",
       "    <tr style=\"text-align: right;\">\n",
       "      <th></th>\n",
       "    </tr>\n",
       "    <tr>\n",
       "      <th>cellId</th>\n",
       "    </tr>\n",
       "  </thead>\n",
       "  <tbody>\n",
       "    <tr>\n",
       "      <th>AAACCCACACCATAAC</th>\n",
       "    </tr>\n",
       "    <tr>\n",
       "      <th>AAACCCACACCGTACG</th>\n",
       "    </tr>\n",
       "    <tr>\n",
       "      <th>AAACCCACAGACTCTA</th>\n",
       "    </tr>\n",
       "    <tr>\n",
       "      <th>AAACCCACATCAACCA</th>\n",
       "    </tr>\n",
       "    <tr>\n",
       "      <th>AAACCCACATTGCAAC</th>\n",
       "    </tr>\n",
       "  </tbody>\n",
       "</table>\n",
       "</div>"
      ],
      "text/plain": [
       "Empty DataFrame\n",
       "Columns: []\n",
       "Index: [AAACCCACACCATAAC, AAACCCACACCGTACG, AAACCCACAGACTCTA, AAACCCACATCAACCA, AAACCCACATTGCAAC]"
      ]
     },
     "execution_count": 155,
     "metadata": {},
     "output_type": "execute_result"
    }
   ],
   "source": [
    "d1mtx.obs.head()"
   ]
  },
  {
   "cell_type": "code",
   "execution_count": 29,
   "metadata": {},
   "outputs": [],
   "source": [
    "d1mtx.obs['cellLabel'] = d1lables.loc[list(d1mtx.obs.index.values),'final.calls'].values\n",
    "d3mtx.obs['cellLabel'] = d3lables.loc[list(d3mtx.obs.index.values),'final.calls'].values\n",
    "d5mtx.obs['cellLabel'] = d5lables.loc[list(d5mtx.obs.index.values),'final.calls'].values"
   ]
  },
  {
   "cell_type": "code",
   "execution_count": 31,
   "metadata": {},
   "outputs": [
    {
     "name": "stdout",
     "output_type": "stream",
     "text": [
      "902\n",
      "968\n",
      "711\n"
     ]
    }
   ],
   "source": [
    "b1 = list(d1barcodes)\n",
    "b3 = list(d3barcodes)\n",
    "b5 = list(d5barcodes)\n",
    "\n",
    "# common cell barcodes\n",
    "print(len([x for x in b1 if x in b3]))\n",
    "print(len([x for x in b1 if x in b5]))\n",
    "print(len([x for x in b5 if x in b3]))"
   ]
  },
  {
   "cell_type": "code",
   "execution_count": 32,
   "metadata": {},
   "outputs": [],
   "source": [
    "adata = d1mtx.concatenate(d3mtx,join='outer')\n",
    "adata = adata.concatenate(d5mtx,join='outer')"
   ]
  },
  {
   "cell_type": "code",
   "execution_count": 33,
   "metadata": {},
   "outputs": [
    {
     "data": {
      "text/plain": [
       "AnnData object with n_obs × n_vars = 14108 × 31053 \n",
       "    obs: 'batch', 'cellLabel'\n",
       "    var: 'geneName-0-0', 'geneId-0-0', 'geneName-1-0', 'geneId-1-0', 'geneName-1', 'geneId-1'"
      ]
     },
     "execution_count": 33,
     "metadata": {},
     "output_type": "execute_result"
    }
   ],
   "source": [
    "adata"
   ]
  },
  {
   "cell_type": "code",
   "execution_count": 44,
   "metadata": {},
   "outputs": [],
   "source": [
    "adata.var = adata.var.drop(['geneName-0-0', 'geneId-0-0', 'geneName-1-0', 'geneId-1-0'],axis=1)"
   ]
  },
  {
   "cell_type": "code",
   "execution_count": 47,
   "metadata": {},
   "outputs": [],
   "source": [
    "adata.var = adata.var.rename({'geneName-1':'geneName','geneId-1':'geneId'},axis=1)"
   ]
  },
  {
   "cell_type": "code",
   "execution_count": 48,
   "metadata": {},
   "outputs": [
    {
     "name": "stderr",
     "output_type": "stream",
     "text": [
      "... storing 'cellLabel' as categorical\n",
      "... storing 'geneName' as categorical\n"
     ]
    }
   ],
   "source": [
    "adata.write_h5ad('mergedAdata.h5ad')"
   ]
  }
 ],
 "metadata": {
  "kernelspec": {
   "display_name": "(F) Python 3.6",
   "language": "python",
   "name": "fertig_python_3_6"
  },
  "language_info": {
   "codemirror_mode": {
    "name": "ipython",
    "version": 3
   },
   "file_extension": ".py",
   "mimetype": "text/x-python",
   "name": "python",
   "nbconvert_exporter": "python",
   "pygments_lexer": "ipython3",
   "version": "3.6.8"
  }
 },
 "nbformat": 4,
 "nbformat_minor": 4
}
